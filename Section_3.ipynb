{
 "cells": [
  {
   "cell_type": "code",
   "execution_count": 1,
   "metadata": {},
   "outputs": [],
   "source": [
    "import numpy as np\n",
    "import matplotlib.pyplot as plt"
   ]
  },
  {
   "cell_type": "code",
   "execution_count": 2,
   "metadata": {},
   "outputs": [],
   "source": [
    "def coin_toss_x(tosses = 5, probability=0.5 ) :\n",
    "    tossData = np.random.rand(tosses) < probability\n",
    "    ret_Val = 0\n",
    "    for x in tossData :\n",
    "        if(x) :\n",
    "            ret_Val = ret_Val + 1\n",
    "        else :\n",
    "            ret_Val = ret_Val * 2\n",
    "    return(ret_Val)"
   ]
  },
  {
   "cell_type": "code",
   "execution_count": 3,
   "metadata": {},
   "outputs": [],
   "source": [
    "counts_x = 100\n",
    "mean_trials_5 = np.zeros(counts_x)\n",
    "std_trials_5 = np.zeros(counts_x)\n",
    "for y in range(counts_x) :\n",
    "    number_trials = 1e5\n",
    "    number_tosses = 5\n",
    "    sum_trials = np.zeros(int(number_trials))\n",
    "    for x in range(int(number_trials)) :\n",
    "        sum_trials[x] = coin_toss_x(number_tosses)\n",
    "    mean_trials_5[y] = sum_trials.mean()\n",
    "    std_trials_5[y] = sum_trials.std()"
   ]
  },
  {
   "cell_type": "markdown",
   "metadata": {},
   "source": [
    "Let's start with a fair coin. What is our expected score after 5 flips?"
   ]
  },
  {
   "cell_type": "code",
   "execution_count": 4,
   "metadata": {},
   "outputs": [
    {
     "data": {
      "text/plain": [
       "6.592925100000001"
      ]
     },
     "execution_count": 4,
     "metadata": {},
     "output_type": "execute_result"
    }
   ],
   "source": [
    "mean_trials_5.mean()"
   ]
  },
  {
   "cell_type": "markdown",
   "metadata": {},
   "source": [
    "Suppose we played the game many times, with five flips each. What is the expected standard deviation of the scores?"
   ]
  },
  {
   "cell_type": "code",
   "execution_count": 5,
   "metadata": {},
   "outputs": [
    {
     "data": {
      "text/plain": [
       "3.790548827418419"
      ]
     },
     "execution_count": 5,
     "metadata": {},
     "output_type": "execute_result"
    }
   ],
   "source": [
    "std_trials_5.mean()"
   ]
  },
  {
   "cell_type": "code",
   "execution_count": 6,
   "metadata": {},
   "outputs": [],
   "source": [
    "counts_x = 100\n",
    "mean_trials_15 = np.zeros(counts_x)\n",
    "std_trials_15 = np.zeros(counts_x)\n",
    "for y in range(counts_x) :\n",
    "    number_trials = 1e5\n",
    "    number_tosses = 15\n",
    "    sum_trials = np.zeros(int(number_trials))\n",
    "    for x in range(int(number_trials)) :\n",
    "        sum_trials[x] = coin_toss_x(number_tosses)\n",
    "    mean_trials_15[y] = sum_trials.mean()\n",
    "    std_trials_15[y] = sum_trials.std()"
   ]
  },
  {
   "cell_type": "markdown",
   "metadata": {},
   "source": [
    "What is our expected score after 15 flips?"
   ]
  },
  {
   "cell_type": "code",
   "execution_count": 7,
   "metadata": {},
   "outputs": [
    {
     "data": {
      "text/plain": [
       "437.1463773999999"
      ]
     },
     "execution_count": 7,
     "metadata": {},
     "output_type": "execute_result"
    }
   ],
   "source": [
    "mean_trials_15.mean()"
   ]
  },
  {
   "cell_type": "markdown",
   "metadata": {},
   "source": [
    "What is the standard deviation?"
   ]
  },
  {
   "cell_type": "code",
   "execution_count": 8,
   "metadata": {},
   "outputs": [
    {
     "data": {
      "text/plain": [
       "656.1500595493027"
      ]
     },
     "execution_count": 8,
     "metadata": {},
     "output_type": "execute_result"
    }
   ],
   "source": [
    "std_trials_15.mean()"
   ]
  },
  {
   "cell_type": "code",
   "execution_count": 9,
   "metadata": {},
   "outputs": [
    {
     "name": "stderr",
     "output_type": "stream",
     "text": [
      "C:\\Users\\subint\\anaconda3\\lib\\site-packages\\ipykernel_launcher.py:14: RuntimeWarning: divide by zero encountered in log2\n",
      "  \n"
     ]
    }
   ],
   "source": [
    "counts_x = 100\n",
    "mean_trials_10 = np.zeros(counts_x)\n",
    "std_trials_10 = np.zeros(counts_x)\n",
    "pow_10 = np.zeros(counts_x)\n",
    "for y in range(counts_x) :\n",
    "    number_trials = 1e4\n",
    "    number_tosses = 10\n",
    "    sum_trials = np.zeros(int(number_trials))\n",
    "    for x in range(int(number_trials)) :\n",
    "        sum_trials[x] = coin_toss_x(number_tosses,2/3)\n",
    "    mean_trials_10[y] = sum_trials.mean()\n",
    "    std_trials_10[y] = sum_trials.std()\n",
    "    \n",
    "    pow_all = np.log2(sum_trials)\n",
    "    pow2 = pow_all[ pow_all == pow_all.astype(int)]\n",
    "    pow_10[y] = pow2.size/number_trials"
   ]
  },
  {
   "cell_type": "markdown",
   "metadata": {},
   "source": [
    "After 10 flips, what is the probability our score is a power of two? Express this probability as a number between 0 and 1"
   ]
  },
  {
   "cell_type": "code",
   "execution_count": 10,
   "metadata": {},
   "outputs": [
    {
     "data": {
      "text/plain": [
       "0.07452800000000001"
      ]
     },
     "execution_count": 10,
     "metadata": {},
     "output_type": "execute_result"
    }
   ],
   "source": [
    "pow_10.mean()"
   ]
  },
  {
   "cell_type": "markdown",
   "metadata": {},
   "source": [
    "We will start a new game, now with an unfair coin. It has a 2/3 probability of heads, and a 1/3 probability of tails. What is our expected score after 10 flips?"
   ]
  },
  {
   "cell_type": "code",
   "execution_count": 11,
   "metadata": {},
   "outputs": [
    {
     "data": {
      "text/plain": [
       "33.485035"
      ]
     },
     "execution_count": 11,
     "metadata": {},
     "output_type": "execute_result"
    }
   ],
   "source": [
    "mean_trials_10.mean()"
   ]
  },
  {
   "cell_type": "markdown",
   "metadata": {},
   "source": [
    "If we can choose how unfair our coin is, what probability of heads gives us the highest expected score for 10 flips? Express this probability as a number between 0"
   ]
  },
  {
   "cell_type": "code",
   "execution_count": 12,
   "metadata": {},
   "outputs": [
    {
     "data": {
      "text/plain": [
       "29.19457563161963"
      ]
     },
     "execution_count": 12,
     "metadata": {},
     "output_type": "execute_result"
    }
   ],
   "source": [
    "std_trials_10.mean()"
   ]
  },
  {
   "cell_type": "code",
   "execution_count": 13,
   "metadata": {},
   "outputs": [],
   "source": [
    "count_x = 11\n",
    "probList = np.linspace(0,1,count_x)\n",
    "mean_trials_x = np.zeros(count_x)"
   ]
  },
  {
   "cell_type": "code",
   "execution_count": 14,
   "metadata": {},
   "outputs": [],
   "source": [
    "y = 0\n",
    "for prob in probList :\n",
    "    number_trials = 1e5\n",
    "    number_tosses = 10\n",
    "    sum_trials = np.zeros(int(number_trials))\n",
    "    for x in range(int(number_trials)) :\n",
    "        sum_trials[x] = coin_toss_x(number_tosses,prob)\n",
    "    mean_trials_x[y] = sum_trials.mean()\n",
    "    y = y + 1"
   ]
  },
  {
   "cell_type": "code",
   "execution_count": 15,
   "metadata": {},
   "outputs": [
    {
     "data": {
      "text/plain": [
       "Text(0, 0.5, 'Expected Score')"
      ]
     },
     "execution_count": 15,
     "metadata": {},
     "output_type": "execute_result"
    },
    {
     "data": {
      "image/png": "[encoded data removed]",
      "text/plain": [
       "<Figure size 432x288 with 1 Axes>"
      ]
     },
     "metadata": {
      "needs_background": "light"
     },
     "output_type": "display_data"
    }
   ],
   "source": [
    "min_x = (mean_trials_x.argmax() - 1)/10\n",
    "max_x = min_x + 0.2\n",
    "plt.scatter(probList,mean_trials_x)\n",
    "plt.xlabel(\"Probability of Head\")\n",
    "plt.ylabel(\"Expected Score\")"
   ]
  },
  {
   "cell_type": "code",
   "execution_count": 16,
   "metadata": {},
   "outputs": [],
   "source": [
    "count_x = 42\n",
    "probList2 = np.linspace(min_x,max_x,count_x)\n",
    "mean_trials_x2 = np.zeros(count_x)"
   ]
  },
  {
   "cell_type": "code",
   "execution_count": 17,
   "metadata": {},
   "outputs": [],
   "source": [
    "y = 0\n",
    "for prob in probList2 :\n",
    "    number_trials = 1e5\n",
    "    number_tosses = 10\n",
    "    sum_trials = np.zeros(int(number_trials))\n",
    "    for x in range(int(number_trials)) :\n",
    "        sum_trials[x] = coin_toss_x(number_tosses,prob)\n",
    "    mean_trials_x2[y] = sum_trials.mean()\n",
    "    y = y + 1"
   ]
  },
  {
   "cell_type": "code",
   "execution_count": 18,
   "metadata": {},
   "outputs": [
    {
     "data": {
      "text/plain": [
       "Text(0, 0.5, 'Expected Score')"
      ]
     },
     "execution_count": 18,
     "metadata": {},
     "output_type": "execute_result"
    },
    {
     "data": {
      "image/png": "[encoded data removed]",
      "text/plain": [
       "<Figure size 432x288 with 1 Axes>"
      ]
     },
     "metadata": {
      "needs_background": "light"
     },
     "output_type": "display_data"
    }
   ],
   "source": [
    "min_x3 = (mean_trials_x2.argmax() - 1)/10\n",
    "max_x3 = min_x3 + 0.02\n",
    "plt.scatter(probList2,mean_trials_x2)\n",
    "plt.xlabel(\"Probability of Head\")\n",
    "plt.ylabel(\"Expected Score\")"
   ]
  },
  {
   "cell_type": "markdown",
   "metadata": {},
   "source": [
    "If we can choose how unfair our coin is, what probability of heads gives us the highest expected score for 10 flips? Express this probability as a number between 0 and 1"
   ]
  },
  {
   "cell_type": "code",
   "execution_count": 19,
   "metadata": {},
   "outputs": [
    {
     "data": {
      "text/plain": [
       "0.21707317073170734"
      ]
     },
     "execution_count": 19,
     "metadata": {},
     "output_type": "execute_result"
    }
   ],
   "source": [
    "probList2[mean_trials_x2.argmax()]"
   ]
  },
  {
   "cell_type": "code",
   "execution_count": null,
   "metadata": {},
   "outputs": [],
   "source": []
  }
 ],
 "metadata": {
  "kernelspec": {
   "display_name": "Python 3",
   "language": "python",
   "name": "python3"
  },
  "language_info": {
   "codemirror_mode": {
    "name": "ipython",
    "version": 3
   },
   "file_extension": ".py",
   "mimetype": "text/x-python",
   "name": "python",
   "nbconvert_exporter": "python",
   "pygments_lexer": "ipython3",
   "version": "3.7.6"
  }
 },
 "nbformat": 4,
 "nbformat_minor": 4
}
