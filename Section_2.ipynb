{
 "cells": [
  {
   "cell_type": "code",
   "execution_count": 1,
   "metadata": {},
   "outputs": [],
   "source": [
    "import pandas as pd\n",
    "import numpy as np\n",
    "from scipy import stats\n",
    "import matplotlib.pyplot as plt"
   ]
  },
  {
   "cell_type": "code",
   "execution_count": 2,
   "metadata": {},
   "outputs": [
    {
     "name": "stderr",
     "output_type": "stream",
     "text": [
      "C:\\Users\\subint\\anaconda3\\lib\\site-packages\\IPython\\core\\interactiveshell.py:3063: DtypeWarning: Columns (8,9,10,15,31,33,36,51) have mixed types.Specify dtype option on import or set low_memory=False.\n",
      "  interactivity=interactivity, compiler=compiler, result=result)\n"
     ]
    }
   ],
   "source": [
    "census_population = pd.read_csv('2010+Census+Population+By+Zipcode+(ZCTA).csv',index_col=0)\n",
    "permits_dob = pd.read_csv('Historical_DOB_Permit_Issuance.csv')"
   ]
  },
  {
   "cell_type": "markdown",
   "metadata": {},
   "source": [
    "What fraction of all construction permits in this data set correspond to renewed permits? The filing type is recorded under column 'Filing Status'. For first-time permits the value in this column is 'INITIAL' and for renewed permits it is 'RENEWAL'."
   ]
  },
  {
   "cell_type": "code",
   "execution_count": 3,
   "metadata": {},
   "outputs": [
    {
     "data": {
      "text/plain": [
       "0.23756920864755"
      ]
     },
     "execution_count": 3,
     "metadata": {},
     "output_type": "execute_result"
    }
   ],
   "source": [
    "permits_dob[permits_dob[\"Filing Status\"] == \"RENEWAL\"][\"Filing Status\"].count()/permits_dob[\"Filing Status\"].count()"
   ]
  },
  {
   "cell_type": "markdown",
   "metadata": {},
   "source": [
    "The filing type of a permit is recorded under column 'Filing Status'. For first-time permits the value in this column is 'INITIAL' and for renewed permits it is 'RENEWAL'. What kind of an owner the permit was issued to is recorded in the column \"Owner's Business Type\", for corporations the value is 'CORPORATION', for individuals it is 'INDIVIDUAL'. If you consider only renewed permits, what is the ratio of the number of permits issued to corporations to the number of permits issued to individuals?"
   ]
  },
  {
   "cell_type": "code",
   "execution_count": 4,
   "metadata": {},
   "outputs": [
    {
     "data": {
      "text/plain": [
       "1.0805818771914573"
      ]
     },
     "execution_count": 4,
     "metadata": {},
     "output_type": "execute_result"
    }
   ],
   "source": [
    "corp_count = permits_dob[ (permits_dob[\"Filing Status\"] == \"RENEWAL\") & (permits_dob[\"Owner\\'s Business Type\"] == \"CORPORATION\")][\"Owner\\'s Business Type\"].count()\n",
    "indv_count = permits_dob[ (permits_dob[\"Filing Status\"] == \"RENEWAL\") & (permits_dob[\"Owner\\'s Business Type\"] == \"INDIVIDUAL\")][\"Owner\\'s Business Type\"].count()\n",
    "corp_count/indv_count"
   ]
  },
  {
   "cell_type": "markdown",
   "metadata": {},
   "source": [
    "Consider only those permits that were issued for more than 365 days. The date on which a permit was issued is recorded in column 'Issuance Date', the date the permit expires is in column 'Expiration Date'. What fraction of these at least year-long permits were issued in the borough with the highest number of such permits? The borough where the construction will take place is in column 'BOROUGH'."
   ]
  },
  {
   "cell_type": "code",
   "execution_count": 5,
   "metadata": {},
   "outputs": [],
   "source": [
    "expDate = permits_dob[\"Expiration Date\"]\n",
    "issDate = permits_dob[\"Issuance Date\"]\n",
    "Length = pd.to_timedelta(pd.to_datetime(expDate) - pd.to_datetime(issDate))"
   ]
  },
  {
   "cell_type": "code",
   "execution_count": 6,
   "metadata": {},
   "outputs": [
    {
     "data": {
      "text/plain": [
       "0.44938589413557717"
      ]
     },
     "execution_count": 6,
     "metadata": {},
     "output_type": "execute_result"
    }
   ],
   "source": [
    "permits_dob[Length.dt.days > 365][\"BOROUGH\"].value_counts().max() / permits_dob[Length.dt.days > 365][\"BOROUGH\"].value_counts().sum()"
   ]
  },
  {
   "cell_type": "markdown",
   "metadata": {},
   "source": [
    "Observe how the number of issued permits changes accross the years. Limit your analysis to years 1990-2012 (both inclusive). What is the coefficient of determination (R squared) between the year a permit was issued and the number of issued permits that year? The column recording the date when a permit was issued is called 'Issuance Date'"
   ]
  },
  {
   "cell_type": "code",
   "execution_count": 7,
   "metadata": {},
   "outputs": [],
   "source": [
    "issDate = pd.to_datetime(issDate).dt.year"
   ]
  },
  {
   "cell_type": "code",
   "execution_count": 8,
   "metadata": {},
   "outputs": [
    {
     "data": {
      "text/plain": [
       "0.906820212281698"
      ]
     },
     "execution_count": 8,
     "metadata": {},
     "output_type": "execute_result"
    }
   ],
   "source": [
    "r_Data =  issDate[issDate.between(1990,2012)].value_counts()\n",
    "x  = r_Data.index.to_list()\n",
    "y  = r_Data.to_list()\n",
    "slope, intercept, r_value, p_value, std_err = stats.linregress(x, y)\n",
    "r_value * r_value"
   ]
  },
  {
   "cell_type": "markdown",
   "metadata": {},
   "source": [
    "Limit your analysis to permits that were filed in 2010. The column recording the date of permit filing is called 'Filing Date'. For each ZIP code compute the ratio between the number of permits issued in 2010 and number of residents in that ZIP code. Make sure to discard any ZIP codes with population lower than 1000 people. Note: you will need to use both the DOB permits dataset and the US Census dataset. In the DOB permits dataset, the ZIP code is recorded under column 'Postcode'. How many ZIP codes are outliers in terms of number of construction permits per number of people - more specificaly, for how many ZIP codes does this computed ratio exceed the mean by more than twice the standard deviation?"
   ]
  },
  {
   "cell_type": "code",
   "execution_count": 9,
   "metadata": {},
   "outputs": [],
   "source": [
    "census = census_population[census_population[\"2010 Census Population\"] > 1000]\n",
    "permits_2010 = permits_dob[pd.to_datetime(permits_dob[\"Filing Date\"]).dt.year == 2010][\"Postcode\"].value_counts()\n",
    "census.index = census.index.astype('float64')"
   ]
  },
  {
   "cell_type": "code",
   "execution_count": 10,
   "metadata": {},
   "outputs": [],
   "source": [
    "comList = list(set(permits_2010.index.to_list()).intersection(census.index.to_list()))\n",
    "permits = permits_2010[permits_2010.index.isin(comList)].sort_index()\n",
    "census = census[census.index.isin(comList)].sort_index()"
   ]
  },
  {
   "cell_type": "code",
   "execution_count": 11,
   "metadata": {},
   "outputs": [
    {
     "data": {
      "text/plain": [
       "9"
      ]
     },
     "execution_count": 11,
     "metadata": {},
     "output_type": "execute_result"
    }
   ],
   "source": [
    "x = permits.values / census[\"2010 Census Population\"].values\n",
    "max_x = x.mean() + 2*x.std()\n",
    "min_x = x.mean() - 2*x.std()\n",
    "(x > max_x).sum() + (x < min_x).sum()"
   ]
  },
  {
   "cell_type": "code",
   "execution_count": 12,
   "metadata": {},
   "outputs": [
    {
     "data": {
      "text/plain": [
       "Text(0, 0.5, 'PDF')"
      ]
     },
     "execution_count": 12,
     "metadata": {},
     "output_type": "execute_result"
    },
    {
     "data": {
      "image/png": "[encoded data removed]",
      "text/plain": [
       "<Figure size 432x288 with 1 Axes>"
      ]
     },
     "metadata": {
      "needs_background": "light"
     },
     "output_type": "display_data"
    }
   ],
   "source": [
    "plt.hist(x, bins = 50, density=True)\n",
    "plt.xlabel(\"Counts per population\")\n",
    "plt.ylabel(\"PDF\")"
   ]
  },
  {
   "cell_type": "markdown",
   "metadata": {},
   "source": [
    "Let's investigate how the number of construction jobs that start in the summer vs the winter changes across the years. The date of construction job start is recorded in column 'Job Start Date'. For every year, compute the ratio between the number of construction jobs that start in the peak of summer (in July and August) and the number of jobs that start in the peak of winter (in January and February). Again limit your analysis to years 1990-2012 (both inclusive). Find the year when this ratio was maximal - what was the value of this ratio for that year?"
   ]
  },
  {
   "cell_type": "code",
   "execution_count": 13,
   "metadata": {},
   "outputs": [],
   "source": [
    "job_start_date = pd.to_datetime(permits_dob[\"Job Start Date\"],errors='coerce')\n",
    "job_start_date = job_start_date[(job_start_date.dt.year >= 1990) & (job_start_date.dt.year<=2012)]\n",
    "j_data = pd.DataFrame()\n",
    "j_data[\"M\"] = job_start_date.dt.month\n",
    "j_data[\"Y\"] = job_start_date.dt.year"
   ]
  },
  {
   "cell_type": "code",
   "execution_count": 14,
   "metadata": {},
   "outputs": [
    {
     "data": {
      "text/plain": [
       "3.8049555273189326"
      ]
     },
     "execution_count": 14,
     "metadata": {},
     "output_type": "execute_result"
    }
   ],
   "source": [
    "Smr = j_data[((j_data[\"M\"] == 8) | (j_data[\"M\"] == 7)) & ((j_data[\"Y\"] >= 1990) & (j_data[\"Y\"] <= 2012))][\"Y\"].value_counts()\n",
    "Wtr = j_data[((j_data[\"M\"] == 1) | (j_data[\"M\"] == 2)) & ((j_data[\"Y\"] >= 1990) & (j_data[\"Y\"] <= 2012))][\"Y\"].value_counts()\n",
    "Smr = Smr.sort_index()\n",
    "Wtr = Wtr.sort_index()\n",
    "Smr.div(Wtr).max()"
   ]
  },
  {
   "cell_type": "code",
   "execution_count": 15,
   "metadata": {},
   "outputs": [
    {
     "data": {
      "text/plain": [
       "1990"
      ]
     },
     "execution_count": 15,
     "metadata": {},
     "output_type": "execute_result"
    }
   ],
   "source": [
    "Smr.div(Wtr).idxmax()"
   ]
  },
  {
   "cell_type": "code",
   "execution_count": null,
   "metadata": {},
   "outputs": [],
   "source": []
  }
 ],
 "metadata": {
  "kernelspec": {
   "display_name": "Python 3",
   "language": "python",
   "name": "python3"
  },
  "language_info": {
   "codemirror_mode": {
    "name": "ipython",
    "version": 3
   },
   "file_extension": ".py",
   "mimetype": "text/x-python",
   "name": "python",
   "nbconvert_exporter": "python",
   "pygments_lexer": "ipython3",
   "version": "3.7.6"
  }
 },
 "nbformat": 4,
 "nbformat_minor": 4
}
